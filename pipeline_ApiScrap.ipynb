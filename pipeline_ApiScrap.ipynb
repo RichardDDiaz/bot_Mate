{
 "cells": [
  {
   "cell_type": "code",
   "execution_count": 1,
   "id": "7e2c52bc-10a1-4ff7-b46c-97d9382ec697",
   "metadata": {},
   "outputs": [],
   "source": [
    "import requests\n",
    "import json"
   ]
  },
  {
   "cell_type": "code",
   "execution_count": null,
   "id": "799b86cb-3e62-4093-bdc1-7e691b3fb853",
   "metadata": {},
   "outputs": [],
   "source": [
    "####### REQUESTS WEBS SITES ########"
   ]
  },
  {
   "cell_type": "code",
   "execution_count": 2,
   "id": "3d2c04ca-c40c-4819-afdd-c7aa36cdd925",
   "metadata": {
    "tags": []
   },
   "outputs": [],
   "source": [
    "'''\n",
    "online currency converter \n",
    "API: https://cambio.today/members/dashboard\n",
    "view to the homepage for more info\n",
    "'''\n",
    "ACTUAL_TAXES = 1.64\n",
    "API_USD_ARS = 'https://api.cambio.today/v1/quotes/USD/ARS/json?quantity=1&key=9268|6uv1gKh1oJg1PW63hMUR_TPKjkuuJjN3'\n",
    "\n",
    "def USD_ARS():\n",
    "    responseChange = requests.get(API_USD_ARS).text\n",
    "    json_convertChange = json.loads(responseChange)\n",
    "    \n",
    "    result = f\"\"\"\n",
    "    1 dollar in pesos are: {json_convertChange[\"result\"][\"value\"]} ARS\n",
    "    1 dollar in pesos + full taxes are: {str(float(json_convertChange[\"result\"][\"value\"]) * ACTUAL_TAXES)} ARS\n",
    "    \"\"\"\n",
    "    \n",
    "    return result\n"
   ]
  },
  {
   "cell_type": "code",
   "execution_count": 4,
   "id": "2b3dafc3-eb84-4ab4-91ac-083553f6dd82",
   "metadata": {},
   "outputs": [
    {
     "name": "stdout",
     "output_type": "stream",
     "text": [
      "\n",
      "    1 dollar in pesos are: 80.898 ARS\n",
      "    1 dollar in pesos + full taxes are: 132.67272 ARS\n",
      "    \n"
     ]
    }
   ],
   "source": [
    "print(USD_ARS())"
   ]
  },
  {
   "cell_type": "code",
   "execution_count": 5,
   "id": "3febcc8f-c460-4bc6-9ef1-3be42438af6d",
   "metadata": {},
   "outputs": [],
   "source": [
    "'''\n",
    "steam games ID\n",
    "API: http://api.steampowered.com/ISteamApps/GetAppList/v0002/?key=STEAMKEY&format=json\n",
    "this is all the history of the games of steam\n",
    "'''\n",
    "API_STEAM_ID = 'http://api.steampowered.com/ISteamApps/GetAppList/v0002/?key=STEAMKEY&format=json'\n",
    "\n",
    "def parser_idSteam():\n",
    "    responseSteam = requests.get(API_STEAM_ID).text\n",
    "    # convert from str to json and extract data of the key:applist, finally\n",
    "    # extract \"list\" of the key:apps -> finally, this is convert to dictionary {}\n",
    "    list_of_json = json.loads(responseSteam)[\"applist\"][\"apps\"]\n",
    "    \n",
    "    steamData = {}\n",
    "    for green_data_game in list_of_json:\n",
    "        # the format is NameGame : IdGame, but is interchangeable.\n",
    "        steamData[green_data_game[\"name\"]] = green_data_game[\"appid\"]\n",
    "    \n",
    "    return steamData"
   ]
  },
  {
   "cell_type": "code",
   "execution_count": null,
   "id": "4fad679d-179b-43d3-8b05-a3822f1aeb51",
   "metadata": {},
   "outputs": [],
   "source": [
    "list_id = parser_idSteam()"
   ]
  },
  {
   "cell_type": "code",
   "execution_count": 7,
   "id": "03ab0cea-9913-400e-8c1b-875b8fb436b8",
   "metadata": {},
   "outputs": [],
   "source": [
    "\"\"\"\n",
    "https://wiki.teamfortress.com/wiki/User:RJackson/StorefrontAPI#Global_parameters\n",
    "https://store.steampowered.com/api/appdetails/?cc=ARS&appids=203160\n",
    "API steam: appids= is codeid of the game, very important\n",
    "\"\"\"\n",
    "PRE_URL = \"https://store.steampowered.com/api/appdetails/?cc=ARS&appids=\"\n",
    "\n",
    "def dataGame(idemt):\n",
    "    idemt = str(idemt)\n",
    "    completeurl = PRE_URL + idemt\n",
    "    dataGameSteam = json.loads(requests.get(completeurl).text)[idemt][\"data\"]\n",
    "    \n",
    "    gendrs = \"| \"\n",
    "    for gen in dataGameSteam[\"genres\"]:\n",
    "        gendrs += gen[\"description\"] + \" | \"\n",
    "\n",
    "    categor = \"| \"\n",
    "    for cate in dataGameSteam[\"categories\"]:\n",
    "        categor += cate[\"description\"] + \" | \"\n",
    "    \n",
    "    result = f'''\n",
    "    Name: {str(dataGameSteam[\"name\"])}\n",
    "    Current value: {str(dataGameSteam[\"price_overview\"][\"final_formatted\"])}\n",
    "    Controller support: {dataGameSteam[\"controller_support\"]}\n",
    "    Spanish language: {\"Yes\" if (\"Español\" in dataGameSteam[\"supported_languages\"]\n",
    "                        or \"Spanish\" in dataGameSteam[\"supported_languages\"]) else \"No\"}\n",
    "    genders: {gendrs}\n",
    "    categories: {categor}\n",
    "    '''\n",
    "    \n",
    "    return result\n"
   ]
  },
  {
   "cell_type": "code",
   "execution_count": null,
   "id": "a80d68b3-933c-4500-b2e4-0c41b23c27c8",
   "metadata": {
    "tags": []
   },
   "outputs": [],
   "source": []
  },
  {
   "cell_type": "code",
   "execution_count": 18,
   "id": "13298fd4-719f-41c6-871b-9de15ebad02c",
   "metadata": {},
   "outputs": [
    {
     "name": "stdout",
     "output_type": "stream",
     "text": [
      "203160\n",
      "\n",
      "    Name: Tomb Raider\n",
      "    Current value: ARS$ 220,00\n",
      "    Controller support: full\n",
      "    Spanish language: Yes\n",
      "    genders: | Action | Adventure | \n",
      "    categories: | Single-player | Multi-player | Steam Achievements | Full controller support | Steam Trading Cards | Steam Cloud | Remote Play on Phone | Remote Play on Tablet | Remote Play on TV | \n",
      "    \n"
     ]
    }
   ],
   "source": [
    "\n",
    "\n",
    "game_id = list_id[\"Tomb Raider\"]\n",
    "print(game_id)\n",
    "print(dataGame(game_id))\n",
    "\n",
    "#id_game = \"203160\" #Tomb Raider 1 \n",
    "\n"
   ]
  },
  {
   "cell_type": "code",
   "execution_count": null,
   "id": "17a734bd-9147-4068-a70c-a667c7c2ed72",
   "metadata": {},
   "outputs": [],
   "source": [
    "##### PART 2 ######"
   ]
  },
  {
   "cell_type": "code",
   "execution_count": 35,
   "id": "a3e589db-570e-4757-9506-2f6b6148a137",
   "metadata": {},
   "outputs": [],
   "source": [
    "class NotStatus200Exception(Exception):\n",
    "    pass\n",
    "\n",
    "\n",
    "class Foreign_exchange():\n",
    "    ACTUAL_TAXES = 1.64\n",
    "    API_GENERAL = 'https://api.cambio.today/v1/quotes/{0}/{1}/json?quantity=1&key=9268|6uv1gKh1oJg1PW63hMUR_TPKjkuuJjN3'\n",
    "    \n",
    "    def __init__(self,coin1,coin2=\"ARS\"):\n",
    "        self.__coin1 = str(coin1)\n",
    "        self.__coin2 = str(coin2)\n",
    "        self.__conversion = self.__coin1 + \" to \" + self.__coin2\n",
    "        self.__api = API_GENERAL.format(self.__coin1, self.__coin2)\n",
    "        try:\n",
    "            if requests.get(self.__api).status_code != 200:\n",
    "                raise NotStatus200Exception(\"Failure GET Request\") \n",
    "            \n",
    "        except Exception as e:\n",
    "            print(f'Exception - {e} , {type(e)}')\n",
    "            \n",
    "        print(f\"class foreign_exchange {self.__conversion} created\")\n",
    "        \n",
    "    def __str__(self):\n",
    "        return(\n",
    "        f\"\"\"\n",
    "        {self.__conversion}\n",
    "        Taxes Argentina: {Foreign_exchange.ACTUAL_TAXES}\n",
    "        {self.__api}\"\"\")\n",
    "    \n",
    "    def exchange_rate(self):\n",
    "        responseChange = json.loads(requests.get(self.__api).text)\n",
    "        #json_convertChange = json.loads(responseChange)\n",
    "    \n",
    "        result = f\"\"\"\n",
    "        1 dollar in pesos are: {responseChange[\"result\"][\"value\"]} ARS\n",
    "        1 dollar in pesos + full taxes are: {str(float(responseChange[\"result\"][\"value\"]) * Foreign_exchange.ACTUAL_TAXES)} ARS\n",
    "        \"\"\"\n",
    "        \n",
    "        return result\n"
   ]
  },
  {
   "cell_type": "code",
   "execution_count": 36,
   "id": "fd6edfd2-973a-4b07-85f9-402428de768b",
   "metadata": {},
   "outputs": [
    {
     "name": "stdout",
     "output_type": "stream",
     "text": [
      "class foreign_exchange USD to ARS created\n",
      "\n",
      "        USD to ARS\n",
      "        Taxes Argentina: 1.64\n",
      "        https://api.cambio.today/v1/quotes/USD/ARS/json?quantity=1&key=9268|6uv1gKh1oJg1PW63hMUR_TPKjkuuJjN3\n",
      "\n",
      "        1 dollar in pesos are: 80.898 ARS\n",
      "        1 dollar in pesos + full taxes are: 132.67272 ARS\n",
      "        \n"
     ]
    }
   ],
   "source": [
    "usd_ars = Foreign_exchange(\"USD\", \"ARS\")\n",
    "print(usd_ars)\n",
    "print(usd_ars.exchange_rate())"
   ]
  },
  {
   "cell_type": "code",
   "execution_count": null,
   "id": "61434bc8-d14c-4fe2-bd40-2a76a14b013c",
   "metadata": {},
   "outputs": [],
   "source": [
    "#================================================================#\n",
    "\n",
    "class steam_data():\n",
    "    API_STEAM_ID = 'http://api.steampowered.com/ISteamApps/GetAppList/v0002/?key=STEAMKEY&format=json'\n",
    "    PRE_URL = \"https://store.steampowered.com/api/appdetails/?cc=ARS&appids=\"\n",
    "    games_ids = {}\n",
    "    \n",
    "    def __init__(self):\n",
    "         pass\n",
    "    \n",
    "    @classmethod\n",
    "    def parser_Ids_Steam(cls):\n",
    "        list_of_json = \"\"\n",
    "        steamData = {}\n",
    "        try:\n",
    "            responseSteam = requests.get(cls.API_STEAM_ID).text\n",
    "            # convert from str to json and extract data of the key:applist, finally\n",
    "            # extract \"list\" of the key:apps -> finally, this is convert to dictionary {}\n",
    "            list_of_json = json.loads(responseSteam)[\"applist\"][\"apps\"]\n",
    "        except Exception as e:\n",
    "            print(f'Exception - {e} , {type(e)}')\n",
    "            \n",
    "        \n",
    "        for green_data_game in list_of_json:\n",
    "            # the format is NameGame : IdGame, but is interchangeable.\n",
    "            steamData[green_data_game[\"name\"]] = green_data_game[\"appid\"]\n",
    "        \n",
    "        cls.games_ids = steamData\n",
    "        return steamData\n",
    "\n",
    "    def get_price_id(self, idemt):\n",
    "        idemt = str(idemt)\n",
    "        completeurl = steam_data.PRE_URL + idemt\n",
    "        gendrs = \"| \"\n",
    "        categor = \"| \"\n",
    "        result = \"noting\"\n",
    "        try:\n",
    "            dataGameSteam = json.loads(requests.get(completeurl).text)[idemt][\"data\"]\n",
    "            for gen in dataGameSteam[\"genres\"]:\n",
    "                gendrs += gen[\"description\"] + \" | \"\n",
    "                \n",
    "            for cate in dataGameSteam[\"categories\"]:\n",
    "                categor += cate[\"description\"] + \" | \"\n",
    "\n",
    "            result = f'''\n",
    "            Name: {str(dataGameSteam[\"name\"])}\n",
    "            Current value: {str(dataGameSteam[\"price_overview\"][\"final_formatted\"])}\n",
    "            Controller support: {dataGameSteam[\"controller_support\"]}\n",
    "            Spanish language: {\"Yes\" if (\"Español\" in dataGameSteam[\"supported_languages\"]\n",
    "                                or \"Spanish\" in dataGameSteam[\"supported_languages\"]) else \"No\"}\n",
    "            genders: {gendrs}\n",
    "            categories: {categor}\n",
    "            '''\n",
    "        except Exception as e:\n",
    "            print(f'Exception in class: steam_data-get_price_id - {e} , {type(e)}')\n",
    "            \n",
    "        return result\n",
    "    \n",
    "    def get_price_name(self,name):\n",
    "        name = str(name)\n",
    "        id_game = -1\n",
    "        completeurl = \"\"\n",
    "        gendrs = \"| \"\n",
    "        categor = \"| \"\n",
    "        result = \"\"\n",
    "        try:\n",
    "            id_game = steam_data.games_ids[name]\n",
    "            completeurl = steam_data.PRE_URL + id_game\n",
    "            \n",
    "            dataGameSteam = json.loads(requests.get(completeurl).text)[idemt][\"data\"]\n",
    "            for gen in dataGameSteam[\"genres\"]:\n",
    "                gendrs += gen[\"description\"] + \" | \"\n",
    "                \n",
    "            for cate in dataGameSteam[\"categories\"]:\n",
    "                categor += cate[\"description\"] + \" | \"\n",
    "\n",
    "            result = f'''\n",
    "            Name: {str(dataGameSteam[\"name\"])}\n",
    "            Current value: {str(dataGameSteam[\"price_overview\"][\"final_formatted\"])}\n",
    "            Controller support: {dataGameSteam[\"controller_support\"]}\n",
    "            Spanish language: {\"Yes\" if (\"Español\" in dataGameSteam[\"supported_languages\"]\n",
    "                                or \"Spanish\" in dataGameSteam[\"supported_languages\"]) else \"No\"}\n",
    "            genders: {gendrs}\n",
    "            categories: {categor}\n",
    "            '''\n",
    "        except Exception as e:\n",
    "             print(f'Exception in class: steam_data-get_price_name - {e} , {type(e)}')\n",
    "        \n",
    "        return result"
   ]
  },
  {
   "cell_type": "code",
   "execution_count": null,
   "id": "aa3464e6-7aef-48bd-b70c-1455681bd076",
   "metadata": {},
   "outputs": [],
   "source": [
    "test = steam_data()\n",
    "print(steam_data.games_ids)\n",
    "steam_data.parser_Ids_Steam()\n",
    "\n",
    "test.get_price_id(203160)"
   ]
  }
 ],
 "metadata": {
  "kernelspec": {
   "display_name": "Python 3 (ipykernel)",
   "language": "python",
   "name": "python3"
  },
  "language_info": {
   "codemirror_mode": {
    "name": "ipython",
    "version": 3
   },
   "file_extension": ".py",
   "mimetype": "text/x-python",
   "name": "python",
   "nbconvert_exporter": "python",
   "pygments_lexer": "ipython3",
   "version": "3.8.5"
  }
 },
 "nbformat": 4,
 "nbformat_minor": 5
}
