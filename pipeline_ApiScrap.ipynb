{
 "cells": [
  {
   "cell_type": "code",
   "execution_count": 1,
   "id": "7e2c52bc-10a1-4ff7-b46c-97d9382ec697",
   "metadata": {},
   "outputs": [],
   "source": [
    "import requests\n",
    "import json"
   ]
  },
  {
   "cell_type": "code",
   "execution_count": null,
   "id": "799b86cb-3e62-4093-bdc1-7e691b3fb853",
   "metadata": {},
   "outputs": [],
   "source": [
    "####### REQUESTS WEBS SITES ########"
   ]
  },
  {
   "cell_type": "code",
   "execution_count": 2,
   "id": "3d2c04ca-c40c-4819-afdd-c7aa36cdd925",
   "metadata": {
    "tags": []
   },
   "outputs": [],
   "source": [
    "'''\n",
    "online currency converter \n",
    "API: https://cambio.today/members/dashboard\n",
    "view to the homepage for more info\n",
    "'''\n",
    "ACTUAL_TAXES = 1.64\n",
    "API_USD_ARS = 'https://api.cambio.today/v1/quotes/USD/ARS/json?quantity=1&key=9268|6uv1gKh1oJg1PW63hMUR_TPKjkuuJjN3'\n",
    "\n",
    "def USD_ARS():\n",
    "    responseChange = requests.get(API_USD_ARS).text\n",
    "    json_convertChange = json.loads(responseChange)\n",
    "    \n",
    "    result = f\"\"\"\n",
    "    1 dollar in pesos are: {json_convertChange[\"result\"][\"value\"]} ARS\n",
    "    1 dollar in pesos + full taxes are: {str(float(json_convertChange[\"result\"][\"value\"]) * ACTUAL_TAXES)} ARS\n",
    "    \"\"\"\n",
    "    \n",
    "    return result\n"
   ]
  },
  {
   "cell_type": "code",
   "execution_count": 4,
   "id": "2b3dafc3-eb84-4ab4-91ac-083553f6dd82",
   "metadata": {},
   "outputs": [
    {
     "name": "stdout",
     "output_type": "stream",
     "text": [
      "\n",
      "    1 dollar in pesos are: 80.898 ARS\n",
      "    1 dollar in pesos + full taxes are: 132.67272 ARS\n",
      "    \n"
     ]
    }
   ],
   "source": [
    "print(USD_ARS())"
   ]
  },
  {
   "cell_type": "code",
   "execution_count": 5,
   "id": "3febcc8f-c460-4bc6-9ef1-3be42438af6d",
   "metadata": {},
   "outputs": [],
   "source": [
    "'''\n",
    "steam games ID\n",
    "API: http://api.steampowered.com/ISteamApps/GetAppList/v0002/?key=STEAMKEY&format=json\n",
    "this is all the history of the games of steam\n",
    "'''\n",
    "API_STEAM_ID = 'http://api.steampowered.com/ISteamApps/GetAppList/v0002/?key=STEAMKEY&format=json'\n",
    "\n",
    "def parser_idSteam():\n",
    "    responseSteam = requests.get(API_STEAM_ID).text\n",
    "    # convert from str to json and extract data of the key:applist, finally\n",
    "    # extract \"list\" of the key:apps -> finally, this is convert to dictionary {}\n",
    "    list_of_json = json.loads(responseSteam)[\"applist\"][\"apps\"]\n",
    "    \n",
    "    steamData = {}\n",
    "    for green_data_game in list_of_json:\n",
    "        # the format is NameGame : IdGame, but is interchangeable.\n",
    "        steamData[green_data_game[\"name\"]] = green_data_game[\"appid\"]\n",
    "    \n",
    "    return steamData"
   ]
  },
  {
   "cell_type": "code",
   "execution_count": 9,
   "id": "7d47f2ab-e37c-4f26-9660-c6d05a127dab",
   "metadata": {},
   "outputs": [],
   "source": [
    "list_id = parser_idSteam()"
   ]
  },
  {
   "cell_type": "code",
   "execution_count": 17,
   "id": "03ab0cea-9913-400e-8c1b-875b8fb436b8",
   "metadata": {},
   "outputs": [],
   "source": [
    "\"\"\"\n",
    "https://wiki.teamfortress.com/wiki/User:RJackson/StorefrontAPI#Global_parameters\n",
    "https://store.steampowered.com/api/appdetails/?cc=ARS&appids=203160\n",
    "API steam: appids= is codeid of the game, very important\n",
    "\"\"\"\n",
    "PRE_URL = \"https://store.steampowered.com/api/appdetails/?cc=ARS&appids=\"\n",
    "\n",
    "def dataGame(idemt):\n",
    "    idemt = str(idemt)\n",
    "    completeurl = PRE_URL + idemt\n",
    "    dataGameSteam = json.loads(requests.get(completeurl).text)[idemt][\"data\"]\n",
    "    \n",
    "    gendrs = \"| \"\n",
    "    for gen in dataGameSteam[\"genres\"]:\n",
    "        gendrs += gen[\"description\"] + \" | \"\n",
    "\n",
    "    categor = \"| \"\n",
    "    for cate in dataGameSteam[\"categories\"]:\n",
    "        categor += cate[\"description\"] + \" | \"\n",
    "    \n",
    "    result = f'''\n",
    "    Name: {str(dataGameSteam[\"name\"])}\n",
    "    Current value: {str(dataGameSteam[\"price_overview\"][\"final_formatted\"])}\n",
    "    Controller support: {dataGameSteam[\"controller_support\"]}\n",
    "    Spanish language: {\"Yes\" if (\"Español\" in dataGameSteam[\"supported_languages\"]\n",
    "                        or \"Spanish\" in dataGameSteam[\"supported_languages\"]) else \"No\"}\n",
    "    genders: {gendrs}\n",
    "    categories: {categor}\n",
    "    '''\n",
    "    \n",
    "    return result"
   ]
  },
  {
   "cell_type": "code",
   "execution_count": 18,
   "id": "13298fd4-719f-41c6-871b-9de15ebad02c",
   "metadata": {},
   "outputs": [
    {
     "name": "stdout",
     "output_type": "stream",
     "text": [
      "203160\n",
      "\n",
      "    Name: Tomb Raider\n",
      "    Current value: ARS$ 220,00\n",
      "    Controller support: full\n",
      "    Spanish language: Yes\n",
      "    genders: | Action | Adventure | \n",
      "    categories: | Single-player | Multi-player | Steam Achievements | Full controller support | Steam Trading Cards | Steam Cloud | Remote Play on Phone | Remote Play on Tablet | Remote Play on TV | \n",
      "    \n"
     ]
    }
   ],
   "source": [
    "\n",
    "\n",
    "game_id = list_id[\"Tomb Raider\"]\n",
    "print(game_id)\n",
    "print(dataGame(game_id))\n",
    "\n",
    "#id_game = \"203160\" #Tomb Raider 1 \n",
    "\n"
   ]
  },
  {
   "cell_type": "code",
   "execution_count": null,
   "id": "5446810f-2e9f-462d-a2aa-f85ab58fae9c",
   "metadata": {},
   "outputs": [],
   "source": []
  }
 ],
 "metadata": {
  "kernelspec": {
   "display_name": "Python 3 (ipykernel)",
   "language": "python",
   "name": "python3"
  },
  "language_info": {
   "codemirror_mode": {
    "name": "ipython",
    "version": 3
   },
   "file_extension": ".py",
   "mimetype": "text/x-python",
   "name": "python",
   "nbconvert_exporter": "python",
   "pygments_lexer": "ipython3",
   "version": "3.8.5"
  }
 },
 "nbformat": 4,
 "nbformat_minor": 5
}
